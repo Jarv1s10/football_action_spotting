{
 "cells": [
  {
   "cell_type": "code",
   "execution_count": 1,
   "metadata": {},
   "outputs": [
    {
     "data": {
      "text/plain": [
       "True"
      ]
     },
     "execution_count": 1,
     "metadata": {},
     "output_type": "execute_result"
    }
   ],
   "source": [
    "import torch\n",
    "torch.cuda.is_available()"
   ]
  },
  {
   "cell_type": "code",
   "execution_count": 2,
   "metadata": {},
   "outputs": [
    {
     "data": {
      "text/plain": [
       "'NVIDIA GeForce GTX 1060 6GB'"
      ]
     },
     "execution_count": 2,
     "metadata": {},
     "output_type": "execute_result"
    }
   ],
   "source": [
    "torch.cuda.get_device_name()"
   ]
  },
  {
   "cell_type": "code",
   "execution_count": 1,
   "metadata": {
    "collapsed": true
   },
   "outputs": [],
   "source": [
    "import SoccerNet\n",
    "from SoccerNet.Downloader import SoccerNetDownloader"
   ]
  },
  {
   "cell_type": "code",
   "execution_count": null,
   "metadata": {
    "collapsed": false,
    "pycharm": {
     "is_executing": true,
     "name": "#%%\n"
    }
   },
   "outputs": [],
   "source": [
    "sc_downloader = SoccerNetDownloader(LocalDirectory=\"../data/dataset_features\")\n",
    "sc_downloader.downloadGames(files=[\"Labels-v2.json\"], split=[\"train\",\"valid\",\"test\"])\n",
    "sc_downloader.downloadGames(files=[\"1_ResNET_TF2_PCA512.npy\", \"2_ResNET_TF2_PCA512.npy\"], split=[\"train\",\"valid\",\"test\"])"
   ]
  },
  {
   "cell_type": "code",
   "execution_count": null,
   "metadata": {
    "collapsed": false,
    "pycharm": {
     "name": "#%%\n"
    }
   },
   "outputs": [
    {
     "name": "stderr",
     "output_type": "stream",
     "text": []
    }
   ],
   "source": [
    "video_downloader = SoccerNetDownloader(LocalDirectory='../data/soccernet/videos')\n",
    "video_downloader.password ='s0cc3rn3t'"
   ]
  },
  {
   "cell_type": "code",
   "execution_count": null,
   "metadata": {},
   "outputs": [],
   "source": [
    "video_downloader.downloadGames(files=[\"1_224p.mkv\", \"2_224.mkv\"], split=[\"test\"])"
   ]
  },
  {
   "cell_type": "code",
   "execution_count": 7,
   "metadata": {},
   "outputs": [],
   "source": [
    "import numpy as np\n",
    "\n",
    "feats = np.load('../data/dataset_features/england_epl/2014-2015/2015-05-17 - 18-00 Manchester United 1 - 1 Arsenal/1_ResNET_TF2_PCA512.npy')"
   ]
  },
  {
   "cell_type": "code",
   "execution_count": 8,
   "metadata": {},
   "outputs": [
    {
     "data": {
      "text/plain": [
       "array([[  6.500095  , -10.232788  ,  13.768982  , ...,  -0.39546517,\n",
       "          0.5537336 ,  -0.4141675 ],\n",
       "       [ 10.23063   , -10.377187  ,  10.965774  , ...,  -0.63641405,\n",
       "          0.7312847 ,  -0.5103248 ],\n",
       "       [ 10.127903  ,  -9.7196    ,  10.979615  , ...,  -0.5280806 ,\n",
       "          0.4497399 ,  -0.32734787],\n",
       "       ...,\n",
       "       [ 14.928235  ,   6.893855  ,  -0.5112847 , ...,   0.12899321,\n",
       "         -0.34097242,   0.10178009],\n",
       "       [ 15.692212  ,   8.624224  ,   1.4384568 , ...,   0.11737885,\n",
       "         -0.21567069,  -0.09382422],\n",
       "       [ 14.450367  ,   5.5021133 ,   1.47537   , ...,  -0.2101827 ,\n",
       "         -0.25566655,   0.20069037]], dtype=float32)"
      ]
     },
     "execution_count": 8,
     "metadata": {},
     "output_type": "execute_result"
    }
   ],
   "source": [
    "feats"
   ]
  }
 ],
 "metadata": {
  "kernelspec": {
   "display_name": "sn_env",
   "language": "python",
   "name": "python3"
  },
  "language_info": {
   "codemirror_mode": {
    "name": "ipython",
    "version": 3
   },
   "file_extension": ".py",
   "mimetype": "text/x-python",
   "name": "python",
   "nbconvert_exporter": "python",
   "pygments_lexer": "ipython3",
   "version": "3.9.16"
  },
  "vscode": {
   "interpreter": {
    "hash": "442d6af378c13b39de2e7582f4810815df4e553ee1da1764902134237c279544"
   }
  }
 },
 "nbformat": 4,
 "nbformat_minor": 0
}
