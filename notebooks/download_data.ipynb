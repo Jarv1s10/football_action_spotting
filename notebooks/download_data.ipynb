{
 "cells": [
  {
   "cell_type": "code",
   "execution_count": 1,
   "metadata": {},
   "outputs": [],
   "source": [
    "from SoccerNet.Downloader import SoccerNetDownloader\n",
    "from SoccerNet.Downloader import getListGames\n",
    "import numpy as np\n",
    "import json\n",
    "import os\n",
    "from tqdm import tqdm\n",
    "import torch"
   ]
  },
  {
   "cell_type": "code",
   "execution_count": 4,
   "metadata": {},
   "outputs": [
    {
     "name": "stdout",
     "output_type": "stream",
     "text": [
      "NVIDIA GeForce GTX 1060 6GB\n"
     ]
    }
   ],
   "source": [
    "if torch.cuda.is_available():\n",
    "    print(torch.cuda.get_device_name())\n",
    "else:\n",
    "    print('Slowdge')"
   ]
  },
  {
   "cell_type": "code",
   "execution_count": null,
   "metadata": {
    "collapsed": false,
    "pycharm": {
     "is_executing": true,
     "name": "#%%\n"
    }
   },
   "outputs": [],
   "source": [
    "sc_downloader = SoccerNetDownloader(LocalDirectory=\"../data/soccernet/labels/\")\n",
    "sc_downloader.downloadGames(files=[\"Labels-v2.json\"], split=[\"train\",\"valid\",\"test\"])\n",
    "\n",
    "sc_downloader = SoccerNetDownloader(LocalDirectory=\"../data/soccernet/resnet_features/\")\n",
    "sc_downloader.downloadGames(files=[\"1_ResNET_TF2.npy\", \"2_ResNET_TF2.npy\"], split=[\"train\",\"valid\",\"test\"])\n",
    "\n",
    "sc_downloader = SoccerNetDownloader(LocalDirectory=\"../data/soccernet/resnet_features/\")\n",
    "sc_downloader.downloadGames(files=[\"1_ResNET_TF2_PCA512.npy\", \"2_ResNET_TF2_PCA512.npy\"], split=[\"train\",\"valid\",\"test\"])\n",
    "\n",
    "video_downloader = SoccerNetDownloader(LocalDirectory='../data/soccernet/video_224p/')\n",
    "video_downloader.password ='s0cc3rn3t'\n",
    "video_downloader.downloadGames(files=[\"1_224p.mkv\", \"2_224.mkv\"], split=[\"train\",\"valid\",\"test\"])"
   ]
  },
  {
   "cell_type": "code",
   "execution_count": null,
   "metadata": {},
   "outputs": [],
   "source": [
    "features_path = os.path.join(os.pardir, 'data', 'soccernet', 'resnet_features')\n",
    "labels_path = os.path.join(os.pardir, 'data', 'soccernet', 'labels')\n",
    "for game_id in tqdm(getListGames([\"train\",\"valid\",\"test\"])):\n",
    "    half1_len = np.load(os.path.join(features_path, game_id, '1_ResNET_TF2.npy')).shape[0]\n",
    "    half2_len = np.load(os.path.join(features_path, game_id, '2_ResNET_TF2.npy')).shape[0]\n",
    "\n",
    "    with open(os.path.join(labels_path, game_id, 'Labels-v2.json'), 'r') as f:\n",
    "        label = json.load(f)\n",
    "\n",
    "        label['n_frames_half_1'] = half1_len\n",
    "        label['n_frames_half_2'] = half2_len\n",
    "\n",
    "    with open(os.path.join(labels_path, game_id, 'Labels-v2.json'), 'w') as f:\n",
    "        json.dump(label, f, indent=4)"
   ]
  }
 ],
 "metadata": {
  "kernelspec": {
   "display_name": "soccernet",
   "language": "python",
   "name": "python3"
  },
  "language_info": {
   "codemirror_mode": {
    "name": "ipython",
    "version": 3
   },
   "file_extension": ".py",
   "mimetype": "text/x-python",
   "name": "python",
   "nbconvert_exporter": "python",
   "pygments_lexer": "ipython3",
   "version": "3.9.16"
  },
  "vscode": {
   "interpreter": {
    "hash": "4732f7ca99dec7c1dd7553f34bb4b78753cda48fa06f449b102a7a8961f4f389"
   }
  }
 },
 "nbformat": 4,
 "nbformat_minor": 0
}
